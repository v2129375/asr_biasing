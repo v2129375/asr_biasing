{
 "cells": [
  {
   "cell_type": "code",
   "execution_count": 1,
   "metadata": {},
   "outputs": [
    {
     "name": "stdout",
     "output_type": "stream",
     "text": [
      "/home/v2129375/asr_biasing\n"
     ]
    }
   ],
   "source": [
    "!pwd"
   ]
  },
  {
   "cell_type": "code",
   "execution_count": 13,
   "metadata": {},
   "outputs": [
    {
     "name": "stdout",
     "output_type": "stream",
     "text": [
      "/home/v2129375/anaconda3/lib/python3.12/site-packages/transformers/models/auto/image_processing_auto.py:590: FutureWarning: The image_processor_class argument is deprecated and will be removed in v4.42. Please use `slow_image_processor_class`, or `fast_image_processor_class` instead\n",
      "  warnings.warn(\n",
      "Using a slow image processor as `use_fast` is unset and a slow processor was saved with this model. `use_fast=True` will be the default behavior in v4.48, even if the model was saved with a slow processor. This will result in minor differences in outputs. You'll still be able to use a slow processor with `use_fast=False`.\n",
      "检测到 1 个GPU\n",
      "使用单GPU运行\n",
      "/root/.cache/huggingface/modules/transformers_modules/microsoft/Phi-4-multimodal-instruct/33e62acdd07cd7d6635badd529aa0a3467bb9c6a/speech_conformer_encoder.py:2774: FutureWarning: Please specify CheckpointImpl.NO_REENTRANT as CheckpointImpl.REENTRANT will soon be removed as the default and eventually deprecated.\n",
      "  lambda i: encoder_checkpoint_wrapper(\n",
      "Loading checkpoint shards: 100%|██████████████████| 3/3 [00:01<00:00,  1.95it/s]\n",
      "检测到 1 个GPU，当前训练进程数: 1\n",
      "数据集中发现的领域: ['video' 'music' 'city']\n",
      "Loaded 555 keywords for video domain\n",
      "Loaded 390 keywords for music domain\n",
      "Loaded 930 keywords for city domain\n",
      "Train dataset size: 1511\n",
      "不执行验证\n",
      "Keywords directory: data/catslu\n",
      "有效训练GPU数量: 1\n",
      "梯度累积步数: 1\n",
      "  0%|                                                  | 0/1511 [00:00<?, ?it/s]`use_cache=True` is incompatible with gradient checkpointing. Setting `use_cache=False`...\n",
      "/home/v2129375/anaconda3/lib/python3.12/site-packages/torch/utils/checkpoint.py:86: UserWarning: None of the inputs have requires_grad=True. Gradients will be None\n",
      "  warnings.warn(\n",
      "{'loss': 3.4559, 'grad_norm': 36.5, 'learning_rate': 8.000000000000001e-06, 'epoch': 0.01}\n",
      "{'loss': 1.8589, 'grad_norm': 12.6875, 'learning_rate': 1.6000000000000003e-05, 'epoch': 0.01}\n",
      "{'loss': 0.42, 'grad_norm': 10.0625, 'learning_rate': 2.4e-05, 'epoch': 0.02}   \n",
      "{'loss': 0.8427, 'grad_norm': 0.53515625, 'learning_rate': 3.2000000000000005e-05, 'epoch': 0.03}\n",
      "{'loss': 0.239, 'grad_norm': 3.265625, 'learning_rate': 4e-05, 'epoch': 0.03}   \n",
      "{'loss': 0.0852, 'grad_norm': 8.75, 'learning_rate': 3.9726214921286794e-05, 'epoch': 0.04}\n",
      "{'loss': 0.027, 'grad_norm': 12.875, 'learning_rate': 3.945242984257358e-05, 'epoch': 0.05}\n",
      "{'loss': 0.2338, 'grad_norm': 0.01434326171875, 'learning_rate': 3.9178644763860375e-05, 'epoch': 0.05}\n",
      "  6%|██▎                                      | 86/1511 [00:14<03:47,  6.26it/s]^C\n",
      "Traceback (most recent call last):\n",
      "  File \"/home/v2129375/asr_biasing/asr/finetune/finetune_speech_asr_keywords2.py\", line 987, in <module>\n",
      "    main() \n",
      "    ^^^^^^\n",
      "  File \"/home/v2129375/asr_biasing/asr/finetune/finetune_speech_asr_keywords2.py\", line 911, in main\n",
      "    trainer.train()\n",
      "  File \"/home/v2129375/anaconda3/lib/python3.12/site-packages/transformers/trainer.py\", line 2171, in train\n",
      "    return inner_training_loop(\n",
      "           ^^^^^^^^^^^^^^^^^^^^\n",
      "  File \"/home/v2129375/anaconda3/lib/python3.12/site-packages/transformers/trainer.py\", line 2531, in _inner_training_loop\n",
      "    tr_loss_step = self.training_step(model, inputs, num_items_in_batch)\n",
      "                   ^^^^^^^^^^^^^^^^^^^^^^^^^^^^^^^^^^^^^^^^^^^^^^^^^^^^^\n",
      "  File \"/home/v2129375/anaconda3/lib/python3.12/site-packages/transformers/trainer.py\", line 3712, in training_step\n",
      "    self.accelerator.backward(loss, **kwargs)\n",
      "  File \"/home/v2129375/anaconda3/lib/python3.12/site-packages/accelerate/accelerator.py\", line 2454, in backward\n",
      "    loss.backward(**kwargs)\n",
      "  File \"/home/v2129375/anaconda3/lib/python3.12/site-packages/torch/_tensor.py\", line 648, in backward\n",
      "    torch.autograd.backward(\n",
      "  File \"/home/v2129375/anaconda3/lib/python3.12/site-packages/torch/autograd/__init__.py\", line 353, in backward\n",
      "    _engine_run_backward(\n",
      "  File \"/home/v2129375/anaconda3/lib/python3.12/site-packages/torch/autograd/graph.py\", line 824, in _engine_run_backward\n",
      "    return Variable._execution_engine.run_backward(  # Calls into the C++ engine to run the backward pass\n",
      "           ^^^^^^^^^^^^^^^^^^^^^^^^^^^^^^^^^^^^^^^^^^^^^^^^^^^^^^^^^^^^^^^^^^^^^^^^^^^^^^^^^^^^^^^^^^^^^^\n",
      "KeyboardInterrupt\n",
      "  6%|██▎                                      | 86/1511 [00:14<03:59,  5.95it/s]\n"
     ]
    }
   ],
   "source": [
    "!/home/v2129375/anaconda3/bin/python /home/v2129375/asr_biasing/asr/finetune/finetune_speech_asr_keywords2.py \\\n",
    "    --use_flash_attention "
   ]
  }
 ],
 "metadata": {
  "kernelspec": {
   "display_name": "base",
   "language": "python",
   "name": "python3"
  },
  "language_info": {
   "codemirror_mode": {
    "name": "ipython",
    "version": 3
   },
   "file_extension": ".py",
   "mimetype": "text/x-python",
   "name": "python",
   "nbconvert_exporter": "python",
   "pygments_lexer": "ipython3",
   "version": "3.12.7"
  }
 },
 "nbformat": 4,
 "nbformat_minor": 2
}
